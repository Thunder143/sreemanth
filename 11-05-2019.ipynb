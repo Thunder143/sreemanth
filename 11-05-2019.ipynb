{
 "cells": [
  {
   "cell_type": "markdown",
   "metadata": {},
   "source": [
    "# Problem 1 \n",
    "\n",
    "## Problem Statement :\n",
    "\n",
    "How To perform A Recursion\n",
    "\n",
    "# Explanation :\n",
    "\n"
   ]
  },
  {
   "cell_type": "code",
   "execution_count": 4,
   "metadata": {},
   "outputs": [
    {
     "data": {
      "text/plain": [
       "16"
      ]
     },
     "execution_count": 4,
     "metadata": {},
     "output_type": "execute_result"
    }
   ],
   "source": [
    "def rebel(a,b):\n",
    "    if(b==0):\n",
    "        return 1\n",
    "    else:\n",
    "        return rebel(a,b-1)*a\n",
    "\n",
    "rebel(2,4)\n",
    "\n"
   ]
  },
  {
   "cell_type": "markdown",
   "metadata": {},
   "source": [
    "# Problem 2\n",
    "\n",
    "## problem Statement\n",
    "\n",
    "tower of honoi\n",
    "\n",
    "### Explanation\n",
    "\n",
    " * n disk -> move n-1 disks from source to temp\n",
    "          move nth disk from source to dest\n",
    "          move n-1 disks from temp to dest\n",
    "* 3 disk -> move 2 disks from source to temp\n",
    "          move 3rd disk from source to dest\n",
    "          move 2 disks from temp to dest\n",
    "          \n"
   ]
  },
  {
   "cell_type": "code",
   "execution_count": 9,
   "metadata": {},
   "outputs": [
    {
     "name": "stdout",
     "output_type": "stream",
     "text": [
      "move  1 disk from A to C\n",
      "move  2 disk from A to B\n",
      "move  1 disk from C to B\n",
      "move  3 disk from A to C\n",
      "move  1 disk from B to A\n",
      "move  2 disk from B to C\n",
      "move  1 disk from A to C\n"
     ]
    }
   ],
   "source": [
    "def towerofHanoi(n, source, temp, dest):\n",
    "    if n==1:\n",
    "        print('move ', n, 'disk from', source, 'to', dest)\n",
    "        return\n",
    "    else:\n",
    "        towerofHanoi(n-1, source, dest, temp)\n",
    "        print('move ', n, 'disk from', source, 'to',dest)\n",
    "        towerofHanoi(n-1, temp, source, dest)\n",
    "        return\n",
    "towerofHanoi(3,'A','B','C')\n"
   ]
  },
  {
   "cell_type": "markdown",
   "metadata": {},
   "source": []
  },
  {
   "cell_type": "markdown",
   "metadata": {},
   "source": [
    "# Type 2\n",
    "\n",
    "# Tower of Hanoi for Disk 6\n",
    "\n",
    "# Explanation\n"
   ]
  },
  {
   "cell_type": "code",
   "execution_count": 1,
   "metadata": {},
   "outputs": [
    {
     "name": "stdout",
     "output_type": "stream",
     "text": [
      "move  1 disk from A to B\n",
      "move  2 disk from A to C\n",
      "move  1 disk from B to C\n",
      "move  3 disk from A to B\n",
      "move  1 disk from C to A\n",
      "move  2 disk from C to B\n",
      "move  1 disk from A to B\n",
      "move  4 disk from A to C\n",
      "move  1 disk from B to C\n",
      "move  2 disk from B to A\n",
      "move  1 disk from C to A\n",
      "move  3 disk from B to C\n",
      "move  1 disk from A to B\n",
      "move  2 disk from A to C\n",
      "move  1 disk from B to C\n",
      "move  5 disk from A to B\n",
      "move  1 disk from C to A\n",
      "move  2 disk from C to B\n",
      "move  1 disk from A to B\n",
      "move  3 disk from C to A\n",
      "move  1 disk from B to C\n",
      "move  2 disk from B to A\n",
      "move  1 disk from C to A\n",
      "move  4 disk from C to B\n",
      "move  1 disk from A to B\n",
      "move  2 disk from A to C\n",
      "move  1 disk from B to C\n",
      "move  3 disk from A to B\n",
      "move  1 disk from C to A\n",
      "move  2 disk from C to B\n",
      "move  1 disk from A to B\n",
      "move  6 disk from A to C\n",
      "move  1 disk from B to C\n",
      "move  2 disk from B to A\n",
      "move  1 disk from C to A\n",
      "move  3 disk from B to C\n",
      "move  1 disk from A to B\n",
      "move  2 disk from A to C\n",
      "move  1 disk from B to C\n",
      "move  4 disk from B to A\n",
      "move  1 disk from C to A\n",
      "move  2 disk from C to B\n",
      "move  1 disk from A to B\n",
      "move  3 disk from C to A\n",
      "move  1 disk from B to C\n",
      "move  2 disk from B to A\n",
      "move  1 disk from C to A\n",
      "move  5 disk from B to C\n",
      "move  1 disk from A to B\n",
      "move  2 disk from A to C\n",
      "move  1 disk from B to C\n",
      "move  3 disk from A to B\n",
      "move  1 disk from C to A\n",
      "move  2 disk from C to B\n",
      "move  1 disk from A to B\n",
      "move  4 disk from A to C\n",
      "move  1 disk from B to C\n",
      "move  2 disk from B to A\n",
      "move  1 disk from C to A\n",
      "move  3 disk from B to C\n",
      "move  1 disk from A to B\n",
      "move  2 disk from A to C\n",
      "move  1 disk from B to C\n"
     ]
    }
   ],
   "source": [
    "def towerofHanoi(n, source, temp, dest):\n",
    "    if n==1:\n",
    "        print('move ', n, 'disk from', source, 'to', dest)\n",
    "        return\n",
    "    else:\n",
    "        towerofHanoi(n-1, source, dest, temp)\n",
    "        print('move ', n, 'disk from', source, 'to',dest)\n",
    "        towerofHanoi(n-1, temp, source, dest)\n",
    "        return\n",
    "towerofHanoi(6,'A','B','C')\n"
   ]
  },
  {
   "cell_type": "markdown",
   "metadata": {},
   "source": [
    "# Problem 3\n",
    "\n",
    "\n",
    "## Problem Statement\n",
    "\n",
    "Factorial Using Iteration and Recursion\n",
    "\n",
    "# Constraints\n",
    "\n",
    "\n",
    "\n",
    "# Test Cases\n",
    "\n",
    "\n",
    " # Explanation\n",
    " "
   ]
  },
  {
   "cell_type": "code",
   "execution_count": 3,
   "metadata": {},
   "outputs": [
    {
     "data": {
      "text/plain": [
       "120"
      ]
     },
     "execution_count": 3,
     "metadata": {},
     "output_type": "execute_result"
    }
   ],
   "source": [
    "# Iteration Solution\n",
    "def factIterative(n):\n",
    "    fact=1\n",
    "    for i in range(n,1,-1):\n",
    "        fact=fact*i\n",
    "    return fact\n",
    "factIterative(5)\n",
    "\n",
    "\n"
   ]
  },
  {
   "cell_type": "markdown",
   "metadata": {},
   "source": [
    "# Iteration\n",
    "\n",
    "# Explanation"
   ]
  },
  {
   "cell_type": "code",
   "execution_count": 17,
   "metadata": {},
   "outputs": [
    {
     "data": {
      "text/plain": [
       "120"
      ]
     },
     "execution_count": 17,
     "metadata": {},
     "output_type": "execute_result"
    }
   ],
   "source": [
    "# Recursive Solution\n",
    "def factRecursive(n):\n",
    "    if n==1:\n",
    "        return n\n",
    "    else:\n",
    "        return factRecursive(n-1)*n\n",
    "factRecursion(5)\n"
   ]
  },
  {
   "cell_type": "markdown",
   "metadata": {},
   "source": [
    "# Problem 4:\n",
    "\n",
    "# problem statement\n",
    "\n",
    "GCD Solution Using Iteration And Recursion\n",
    "\n",
    "\n",
    "# Explanation"
   ]
  },
  {
   "cell_type": "code",
   "execution_count": 20,
   "metadata": {},
   "outputs": [
    {
     "data": {
      "text/plain": [
       "3"
      ]
     },
     "execution_count": 20,
     "metadata": {},
     "output_type": "execute_result"
    }
   ],
   "source": [
    "# Iteration solution\n",
    "def gcdIterative(a,b):\n",
    "    r=b%a\n",
    "    if r==0:\n",
    "        return a\n",
    "    while r!=0:\n",
    "        r=b%a\n",
    "        b=a\n",
    "        a=r\n",
    "    return b\n",
    "gcdIterative(12,39)\n"
   ]
  },
  {
   "cell_type": "code",
   "execution_count": 22,
   "metadata": {},
   "outputs": [
    {
     "data": {
      "text/plain": [
       "3"
      ]
     },
     "execution_count": 22,
     "metadata": {},
     "output_type": "execute_result"
    }
   ],
   "source": [
    "# Recursion solution\n",
    "def gcdRecursive(a,b):\n",
    "    if b%a==0:\n",
    "        return a\n",
    "    else:\n",
    "        return gcdRecursive(b%a,a)\n",
    "gcdRecursive(12,39)\n",
    "    \n",
    "                        "
   ]
  },
  {
   "cell_type": "code",
   "execution_count": null,
   "metadata": {},
   "outputs": [],
   "source": []
  }
 ],
 "metadata": {
  "kernelspec": {
   "display_name": "Python 3",
   "language": "python",
   "name": "python3"
  },
  "language_info": {
   "codemirror_mode": {
    "name": "ipython",
    "version": 3
   },
   "file_extension": ".py",
   "mimetype": "text/x-python",
   "name": "python",
   "nbconvert_exporter": "python",
   "pygments_lexer": "ipython3",
   "version": "3.7.3"
  }
 },
 "nbformat": 4,
 "nbformat_minor": 2
}
