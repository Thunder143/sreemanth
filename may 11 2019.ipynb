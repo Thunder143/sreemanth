{
 "cells": [
  {
   "cell_type": "markdown",
   "metadata": {},
   "source": [
    "# Problem 1\n",
    "\n",
    "# Problem Statement :\n",
    " \n",
    "Power of Number \n",
    "\n",
    "# Explanation:\n"
   ]
  },
  {
   "cell_type": "code",
   "execution_count": 1,
   "metadata": {},
   "outputs": [
    {
     "name": "stdout",
     "output_type": "stream",
     "text": [
      "Enter base: 4\n",
      "Enter exponential value: 6\n",
      "Result: 4096\n"
     ]
    }
   ],
   "source": [
    "def power(base,exp):\n",
    "    if(exp==1):\n",
    "        return(base)\n",
    "    if(exp!=1):\n",
    "        return(base*power(base,exp-1))\n",
    "base=int(input(\"Enter base: \"))\n",
    "exp=int(input(\"Enter exponential value: \"))\n",
    "print(\"Result:\",power(base,exp))\n"
   ]
  },
  {
   "cell_type": "markdown",
   "metadata": {},
   "source": [
    "# Problem 2\n",
    "\n",
    "# Problem Statement :\n",
    "\n",
    "Generating the nth Fibonacci number\n",
    "\n",
    "# Explanation :\n",
    "\n"
   ]
  },
  {
   "cell_type": "code",
   "execution_count": 2,
   "metadata": {},
   "outputs": [
    {
     "name": "stdout",
     "output_type": "stream",
     "text": [
      "21\n"
     ]
    }
   ],
   "source": [
    "# Function for nth Fibonacci number \n",
    "  \n",
    "def Fibonacci(n): \n",
    "    if n<0: \n",
    "        print(\"Incorrect input\") \n",
    "   \n",
    "    elif n==1: \n",
    "        return 0\n",
    "    \n",
    "    elif n==2: \n",
    "        return 1\n",
    "    else: \n",
    "        return Fibonacci(n-1)+Fibonacci(n-2) \n",
    "  \n",
    "\n",
    "print(Fibonacci(9)) \n",
    "  \n"
   ]
  },
  {
   "cell_type": "markdown",
   "metadata": {},
   "source": [
    "# Problem 3\n",
    "\n",
    "\n",
    "# Problem Statement :\n",
    "\n",
    "program to print Boundary Elements of Matrix\n",
    "\n",
    "# Explanation :\n"
   ]
  },
  {
   "cell_type": "code",
   "execution_count": 11,
   "metadata": {},
   "outputs": [
    {
     "name": "stdout",
     "output_type": "stream",
     "text": [
      "1\n",
      "2\n",
      "3\n",
      "4\n",
      "5\n",
      " \n",
      " \n",
      "8\n",
      "1\n",
      " \n",
      " \n",
      "4\n",
      "5\n",
      "6\n",
      "7\n",
      "8\n"
     ]
    }
   ],
   "source": [
    "MAX = 100\n",
    "   \n",
    "def printBoundary(a, m, n): \n",
    "    for i in range(m): \n",
    "        for j in range(n): \n",
    "            if (i == 0): \n",
    "                print (a[i][j],) \n",
    "            elif (i == m-1): \n",
    "                print (a[i][j],)\n",
    "            elif (j == 0): \n",
    "                print (a[i][j],)\n",
    "            elif (j == n-1): \n",
    "                print (a[i][j],)\n",
    "            else: \n",
    "                print(\" \"),\n",
    "        print    \n",
    "        \n",
    "          \n",
    " \n",
    "a = [ [ 1, 2, 3, 4 ], [ 5, 6, 7, 8 ],  \n",
    "    [ 1, 2, 3, 4 ], [ 5, 6, 7, 8 ] ] \n",
    "printBoundary(a, 4, 4) \n"
   ]
  },
  {
   "cell_type": "markdown",
   "metadata": {},
   "source": [
    "# Problem 4\n",
    "\n",
    "\n",
    "# Problem Statement\n",
    "\n",
    "immplementation of A Spiral form Matrices\n",
    "\n",
    "\n",
    "# Explanation"
   ]
  },
  {
   "cell_type": "code",
   "execution_count": 12,
   "metadata": {},
   "outputs": [
    {
     "name": "stdout",
     "output_type": "stream",
     "text": [
      "1 2 3 4 5 6 12 18 17 16 15 14 13 7 8 9 10 11 "
     ]
    }
   ],
   "source": [
    "def spiralPrint(m, n, a) : \n",
    "    k = 0; l = 0\n",
    "  \n",
    "    ''' k - starting row index \n",
    "        m - ending row index \n",
    "        l - starting column index \n",
    "        n - ending column index \n",
    "        i - iterator '''\n",
    "      \n",
    "  \n",
    "    while (k < m and l < n) : \n",
    "          \n",
    "       \n",
    "        for i in range(l, n) : \n",
    "            print(a[k][i], end = \" \") \n",
    "              \n",
    "        k += 1\n",
    "  \n",
    "        \n",
    "        for i in range(k, m) : \n",
    "            print(a[i][n - 1], end = \" \") \n",
    "              \n",
    "        n -= 1\n",
    "  \n",
    "       \n",
    "        if ( k < m) : \n",
    "              \n",
    "            for i in range(n - 1, (l - 1), -1) : \n",
    "                print(a[m - 1][i], end = \" \") \n",
    "              \n",
    "            m -= 1\n",
    "          \n",
    "      \n",
    "        if (l < n) : \n",
    "            for i in range(m - 1, k - 1, -1) : \n",
    "                print(a[i][l], end = \" \") \n",
    "              \n",
    "            l += 1\n",
    "  \n",
    "a = [ [1, 2, 3, 4, 5, 6], \n",
    "      [7, 8, 9, 10, 11, 12], \n",
    "      [13, 14, 15, 16, 17, 18] ] \n",
    "        \n",
    "R = 3; C = 6\n",
    "spiralPrint(R, C, a) \n",
    "  \n"
   ]
  },
  {
   "cell_type": "markdown",
   "metadata": {},
   "source": [
    "\n",
    "\n",
    "\n",
    "\n"
   ]
  }
 ],
 "metadata": {
  "kernelspec": {
   "display_name": "Python 3",
   "language": "python",
   "name": "python3"
  },
  "language_info": {
   "codemirror_mode": {
    "name": "ipython",
    "version": 3
   },
   "file_extension": ".py",
   "mimetype": "text/x-python",
   "name": "python",
   "nbconvert_exporter": "python",
   "pygments_lexer": "ipython3",
   "version": "3.7.3"
  }
 },
 "nbformat": 4,
 "nbformat_minor": 2
}
