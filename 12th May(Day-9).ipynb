{
 "cells": [
  {
   "cell_type": "markdown",
   "metadata": {},
   "source": [
    "# Problem Solving and Programing\n",
    "## Day:- 9\n",
    "## Date:- 12th May 2019\n",
    "## Day objectives:- To solve the given problems"
   ]
  },
  {
   "cell_type": "markdown",
   "metadata": {},
   "source": [
    "### Problem 1:- \n",
    "### Problem Statement:- \n",
    "   Design a Python script to determine the difference in date for given two dates in YYYY:MM:DD format(0 <= YYYY <= 9999, 1 <= MM <= 12, 1 <= DD <= 31) following the leap year rules. Return the total number of days existing between the two dates.\n",
    "### Test Cases:-\n",
    "* dateDifference('2019:05:10', '2019:05:01') -> 9\n",
    "* dateDifference('0003:03:03', '0003:06:06') -> 95"
   ]
  },
  {
   "cell_type": "code",
   "execution_count": 40,
   "metadata": {},
   "outputs": [
    {
     "ename": "SyntaxError",
     "evalue": "invalid syntax (<ipython-input-40-2210cd7baec9>, line 45)",
     "output_type": "error",
     "traceback": [
      "\u001b[1;36m  File \u001b[1;32m\"<ipython-input-40-2210cd7baec9>\"\u001b[1;36m, line \u001b[1;32m45\u001b[0m\n\u001b[1;33m    dateDifference('2019:12:01','2019:11:31')\u001b[0m\n\u001b[1;37m                 ^\u001b[0m\n\u001b[1;31mSyntaxError\u001b[0m\u001b[1;31m:\u001b[0m invalid syntax\n"
     ]
    }
   ],
   "source": [
    "def dateDifference(date1,date2):\n",
    "    if yearFromDate(date1)==yearFromDate(date2):\n",
    "        return abs(totalDaysdate(date1)-totalDaysDate(date2))+1\n",
    "    else\n",
    "# this fuction returns the total no.of days in February for a given date\n",
    "def daysInFeb(year):\n",
    "    '''\n",
    "    import calendar                     # direct use of keywords\n",
    "    return calendar.isleap(year)\n",
    "    '''\n",
    "    \n",
    "    if ((year%4==0 and year%100!=0) or (year%400==0)):\n",
    "        return 29\n",
    "    return 28\n",
    "# this function returns the total number of days in a given month\n",
    "def numDaysInMonth(month,year):\n",
    "    monthDays={'01':31,'03':31,'04':30,'05':31,'06':30,'07':31,'08':31,'09':30,'10':31,'11':30,'12':31}\n",
    "    if month==2:\n",
    "        return daysInFeb(year)\n",
    "    elif(month<7 and month!=2 and month%2==0) or (month >7 and month%2!=0):\n",
    "            return 30\n",
    "    else:\n",
    "        return 31\n",
    "# this function returns the total no.of days in a given year\n",
    "def numdaysInYear(year):\n",
    "    if daysInFeb(year)==29:\n",
    "        return 366\n",
    "    else:\n",
    "        return 365\n",
    "# this fuction returns the no.of days completed till the given date\n",
    "def totalDaysDate(date):\n",
    "    year=int(date[:4])\n",
    "    month=int(date[5:7])\n",
    "    day=int(date[len(date)-2:])\n",
    "    sum=0\n",
    "    for i in range (1,month):\n",
    "        sum+=numDaysInMonth(i,year)\n",
    "    sum+=day\n",
    "    return sum\n",
    "def yearFromDate(date):\n",
    "    return int(date[:4])\n",
    "def monthFromDate(date):\n",
    "    return int(date[5:7])\n",
    "def daysFromDate(date):\n",
    "    return int(date[len(date)-2:1]\n",
    "dateDifference('2019:12:01','2019:11:31')"
   ]
  },
  {
   "cell_type": "code",
   "execution_count": null,
   "metadata": {},
   "outputs": [],
   "source": []
  },
  {
   "cell_type": "markdown",
   "metadata": {},
   "source": [
    "### Problem 2:- \n",
    "### Problem Statement:- \n",
    "Define a function to validate email addresses based on the following rules.\n",
    "\n",
    "### Explanation:-\n",
    "* Email should be in the format username@domain.extension\n",
    "* username must start with an alphabet and can contain lowercase alphabet, digits, hyphen(-) and underscores( _ ).\n",
    "* username must not contain special characters, uppercase letters, whitespaces.\n",
    "* Length of username must be in the range (6, 16)\n",
    "* Domain can only contain lowercase alphabet and digits with length in range (3, 10).\n",
    "* No special characters are allowed\n",
    "* Extension can only contain lower case alphabet and its length must be in the range (2, 4)\n",
    "### Test Cases:-\n",
    "* abc456@gmail.com -> Valid\n",
    "* 456abc@yahoo.com -> Invalid\n",
    "* abc_456@gitam.ed1 -> Invalid\n",
    "* abc-456@abc-d.in -> Invalid\n",
    "* python@python.edu -> valid  \n",
    "* abc 456@edu.edu -> Invalid"
   ]
  },
  {
   "cell_type": "code",
   "execution_count": 45,
   "metadata": {},
   "outputs": [
    {
     "data": {
      "text/plain": [
       "'invalid'"
      ]
     },
     "execution_count": 45,
     "metadata": {},
     "output_type": "execute_result"
    }
   ],
   "source": [
    "def check(x):\n",
    "    count=1\n",
    "    count1=0\n",
    "    count2=0\n",
    "    if (x[0]>='a' and x[0]<='z'):\n",
    "        i=1\n",
    "        while(x[i]!='@'):\n",
    "            count=count+1\n",
    "            if(x[i]>='0' and x[i]<='9') or (x[i]>='a' and x[i]<='z') or x[i]=='_':\n",
    "                print(end='')\n",
    "            else:\n",
    "                return 'invalid'\n",
    "            i=i+1\n",
    "        if(count<6 or count<16):\n",
    "            return 'invalid'\n",
    "        i=count+1\n",
    "        while x[i]!='.':\n",
    "            count=count+1\n",
    "            if(x[i]>='0'and x[i]<='9') or (x[i]>='a' or x[i]<='z'):\n",
    "                print(end='')\n",
    "            else:\n",
    "                return 'invalid'\n",
    "            i=i+1\n",
    "        if count1<3 or count1>10:\n",
    "            return 'invalid'\n",
    "        for i in range(count1+count2,len(x)):\n",
    "            count2=count2+1\n",
    "            if x[i]>='a' and x[i]<='z':\n",
    "                print(end='')\n",
    "            else:\n",
    "                 return 'invalid'\n",
    "        if count2<2 or count2>4:\n",
    "            return 'invalid'\n",
    "        return 'valid'\n",
    "    else:\n",
    "        return 'invalid'\n",
    "check('msrinathamulya@gmail.com')"
   ]
  },
  {
   "cell_type": "code",
   "execution_count": null,
   "metadata": {},
   "outputs": [],
   "source": []
  }
 ],
 "metadata": {
  "kernelspec": {
   "display_name": "Python 3",
   "language": "python",
   "name": "python3"
  },
  "language_info": {
   "codemirror_mode": {
    "name": "ipython",
    "version": 3
   },
   "file_extension": ".py",
   "mimetype": "text/x-python",
   "name": "python",
   "nbconvert_exporter": "python",
   "pygments_lexer": "ipython3",
   "version": "3.7.3"
  }
 },
 "nbformat": 4,
 "nbformat_minor": 2
}
