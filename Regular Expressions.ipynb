{
 "cells": [
  {
   "cell_type": "markdown",
   "metadata": {},
   "source": [
    "# Regular Expression\n",
    "\n",
    "set of all possible values that satisfy a given pattern\n",
    "\n",
    "\n",
    "0123456789\n",
    "[0-9]\n",
    "[a-z]\n",
    "[A-Z]\n",
    "\n",
    "\n",
    "s*\n",
    "    s\n",
    "    sub\n",
    "s+    \n",
    "    "
   ]
  },
  {
   "cell_type": "code",
   "execution_count": 11,
   "metadata": {},
   "outputs": [
    {
     "name": "stdout",
     "output_type": "stream",
     "text": [
      "match\n"
     ]
    }
   ],
   "source": [
    "import re\n",
    "\n",
    "pattern = '^gmail$'\n",
    "domain = 'gmail'\n",
    "\n",
    "\n",
    "if re.match(pattern, domain):\n",
    "    print ('match')\n",
    "else:\n",
    "    print('Does not Match')\n",
    "        \n",
    "\n"
   ]
  },
  {
   "cell_type": "code",
   "execution_count": 13,
   "metadata": {},
   "outputs": [
    {
     "name": "stdout",
     "output_type": "stream",
     "text": [
      "Does not Match\n"
     ]
    }
   ],
   "source": [
    "\n",
    "import re\n",
    "\n",
    "pattern = '^[a-z]{2}$'\n",
    "\n",
    "domain = 'zzzzzzzzzzzzzzzz'\n",
    "\n",
    "\n",
    "if re.match(pattern, domain):\n",
    "    print ('match')\n",
    "else:\n",
    "    print('Does not Match')\n",
    "        \n",
    "\n"
   ]
  },
  {
   "cell_type": "code",
   "execution_count": 15,
   "metadata": {},
   "outputs": [
    {
     "name": "stdout",
     "output_type": "stream",
     "text": [
      "Match\n"
     ]
    }
   ],
   "source": [
    "import re\n",
    "\n",
    "pattern = '^[a-z]{3,9}'\n",
    "\n",
    "domain = 'gmailgmail'\n",
    "\n",
    "\n",
    "if re.match(pattern, domain):\n",
    "    print ('Match')\n",
    "else:\n",
    "    print('Does not Match')\n",
    "        \n",
    "\n"
   ]
  },
  {
   "cell_type": "code",
   "execution_count": null,
   "metadata": {},
   "outputs": [],
   "source": []
  },
  {
   "cell_type": "code",
   "execution_count": 33,
   "metadata": {},
   "outputs": [
    {
     "name": "stdout",
     "output_type": "stream",
     "text": [
      "match\n"
     ]
    }
   ],
   "source": [
    "import re\n",
    "\n",
    "pattern = '^[+][9][1][1-9][0-9]{9}$'\n",
    "phNo = \"+919440948188\"\n",
    "if re.match(pattern, phNo):\n",
    "    print('match')\n",
    "else:\n",
    "    print('not match')\n",
    "    "
   ]
  },
  {
   "cell_type": "code",
   "execution_count": null,
   "metadata": {},
   "outputs": [],
   "source": []
  },
  {
   "cell_type": "markdown",
   "metadata": {},
   "source": [
    "## Email Validation\n",
    "\n",
    "\n",
    "\n"
   ]
  },
  {
   "cell_type": "code",
   "execution_count": null,
   "metadata": {},
   "outputs": [],
   "source": []
  },
  {
   "cell_type": "code",
   "execution_count": 42,
   "metadata": {},
   "outputs": [
    {
     "name": "stdout",
     "output_type": "stream",
     "text": [
      "Enter the username :superstar143@gmail.com\n",
      "accepted\n"
     ]
    }
   ],
   "source": [
    "import re \n",
    "pattern ='^[a-z][a-z0-9_.-]{4,13}[a-z0-9][@][0-9a-z]{3,9}[.][a-z]{2,3}'\n",
    "Username=input('Enter the username :')\n",
    "if re.match(pattern,Username):\n",
    "    print('accepted')\n",
    "else:\n",
    "    print('not accepted')\n",
    "    "
   ]
  },
  {
   "cell_type": "code",
   "execution_count": null,
   "metadata": {},
   "outputs": [],
   "source": []
  },
  {
   "cell_type": "code",
   "execution_count": null,
   "metadata": {},
   "outputs": [],
   "source": []
  }
 ],
 "metadata": {
  "kernelspec": {
   "display_name": "Python 3",
   "language": "python",
   "name": "python3"
  },
  "language_info": {
   "codemirror_mode": {
    "name": "ipython",
    "version": 3
   },
   "file_extension": ".py",
   "mimetype": "text/x-python",
   "name": "python",
   "nbconvert_exporter": "python",
   "pygments_lexer": "ipython3",
   "version": "3.7.3"
  }
 },
 "nbformat": 4,
 "nbformat_minor": 2
}
