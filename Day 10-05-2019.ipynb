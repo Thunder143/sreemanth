{
 "cells": [
  {
   "cell_type": "markdown",
   "metadata": {},
   "source": [
    "# Problem 1:\n",
    "\n",
    "\n",
    "# Statement :\n",
    "\n",
    "Design a procedure calculate the maximum, minimum and average of N numbers\n",
    "\n",
    "## Constraints\n",
    "\n",
    "\n",
    "### Test Cases\n",
    "\n",
    "\n",
    " *  data( a[1,2,3,4,5] ) -> Max = 5, Min = 1, Avg = 3\n",
    " \n",
    " #### Explanation :\n",
    " "
   ]
  },
  {
   "cell_type": "code",
   "execution_count": 4,
   "metadata": {},
   "outputs": [
    {
     "name": "stdout",
     "output_type": "stream",
     "text": [
      "max : 5\n",
      "min : 1\n",
      "avg : 3\n"
     ]
    }
   ],
   "source": [
    "def data(li):\n",
    "    n=len(li)\n",
    "    print(\"max :\",max(li))\n",
    "    print(\"min :\",min(li))\n",
    "    print(\"avg :\",(sum(li))//n)\n",
    "    \n",
    "a=[1,2,3,4,5]\n",
    "data(a)"
   ]
  },
  {
   "cell_type": "markdown",
   "metadata": {},
   "source": [
    "# .................................................................................................................."
   ]
  },
  {
   "cell_type": "markdown",
   "metadata": {},
   "source": [
    "# Problem 2\n",
    "\n",
    "\n",
    "## Statement :\n",
    "\n",
    "\n",
    "Design a procedure to perform Linear search on list of N unsorted unique numbers. It take an array and the key element to be searched and returns the index of the element of key element if found. Else returns -1\n",
    "\n",
    "# Constraints :\n",
    "\n",
    "\n",
    "# Test Cases:\n",
    "\n",
    " * LinearSearch( a[5,4,3,2,1], 4) -> 2\n",
    " * LinearSearch( a[90, 123, 324, 21, 56], 22) -> -1\n",
    " * LinearSearch( 321,543,567,789) -> 2 \n",
    " \n",
    " # Explanation :\n",
    " \n",
    " "
   ]
  },
  {
   "cell_type": "code",
   "execution_count": 10,
   "metadata": {},
   "outputs": [
    {
     "name": "stdout",
     "output_type": "stream",
     "text": [
      "4\n",
      "-1\n",
      "2\n"
     ]
    }
   ],
   "source": [
    "def ls(li,key):\n",
    "    for i in range(len(li)):\n",
    "        if(key==li[i]):\n",
    "            return i\n",
    "    return -1\n",
    "    \n",
    "    \n",
    "print(ls([1,4,8,0,3,5,6],3))\n",
    "print(ls([15,12,9,6,3,-3],0))\n",
    "print(ls([321,543,567,789],567))\n"
   ]
  },
  {
   "cell_type": "markdown",
   "metadata": {},
   "source": [
    "# Problem 3 :\n",
    "\n",
    "\n",
    "\n",
    "# Statement :\n",
    "\n",
    "Design a procedure to determine if a given string is a Palindrome\n",
    "\n",
    "\n",
    "# Constraints :\n",
    " \n",
    "# Test Cases : \n",
    "\n",
    "* Palindrome(\"racecar\") -> True\n",
    "* Palindrome(\"raptor\") -> False\n",
    "\n",
    "# Explanation :\n"
   ]
  },
  {
   "cell_type": "code",
   "execution_count": 11,
   "metadata": {},
   "outputs": [
    {
     "data": {
      "text/plain": [
       "True"
      ]
     },
     "execution_count": 11,
     "metadata": {},
     "output_type": "execute_result"
    }
   ],
   "source": [
    "def pali(str):\n",
    "    rev=str[len(str)-1::-1]\n",
    "    if(str==rev):\n",
    "        return True\n",
    "    return False\n",
    "\n",
    "pali(\"racecar\")\n"
   ]
  },
  {
   "cell_type": "markdown",
   "metadata": {},
   "source": [
    "# Problem 4 :\n",
    "\n",
    "\n",
    "\n",
    "# Statement\n",
    "\n",
    "Design a procedure to calculate the squareroot of a number \"without using the math function sqrt\"\n",
    "\n",
    "## Constraints \n",
    "\n",
    "\n",
    "\n",
    "# Test Cases:\n",
    "\n",
    "* Squareroot(36) -> 6\n",
    "\n",
    "\n",
    "# Explanation :"
   ]
  },
  {
   "cell_type": "code",
   "execution_count": 12,
   "metadata": {},
   "outputs": [
    {
     "data": {
      "text/plain": [
       "6.0"
      ]
     },
     "execution_count": 12,
     "metadata": {},
     "output_type": "execute_result"
    }
   ],
   "source": [
    "def Squareroot(n):\n",
    "    return (n**(0.5))\n",
    "Squareroot(36)\n"
   ]
  },
  {
   "cell_type": "markdown",
   "metadata": {},
   "source": [
    "# Problem 5 :\n",
    "\n",
    "\n",
    "# Statement\n",
    "\n",
    "Design a procedure to determine the frequency count of numbers in a given list\n",
    "\n",
    "\n",
    "\n",
    "\n",
    "## Constraints\n",
    "\n",
    "\n",
    "# Test Cases :\n",
    "\n",
    "Frequency( a[1,3,2,1] ) -> 1 : 2, 2 : 1, 3 : 1\n",
    " \n",
    " # Explanation"
   ]
  },
  {
   "cell_type": "code",
   "execution_count": 16,
   "metadata": {},
   "outputs": [
    {
     "name": "stdout",
     "output_type": "stream",
     "text": [
      "1 : 2 , 2 : 1 , 3 : 1 , "
     ]
    }
   ],
   "source": [
    "import numpy\n",
    "def Frequency(list1):\n",
    "    x=numpy.unique(list1)\n",
    "    n=len(x)\n",
    "    for i in range (n):\n",
    "        print(x[i],\":\" ,list1.count(x[i]) ,end=\" , \")\n",
    "\n",
    "a=[1,3,2,1]\n",
    "Frequency(a)\n",
    "\n",
    "\n",
    "        "
   ]
  },
  {
   "cell_type": "code",
   "execution_count": null,
   "metadata": {},
   "outputs": [],
   "source": []
  },
  {
   "cell_type": "code",
   "execution_count": null,
   "metadata": {},
   "outputs": [],
   "source": []
  }
 ],
 "metadata": {
  "kernelspec": {
   "display_name": "Python 3",
   "language": "python",
   "name": "python3"
  },
  "language_info": {
   "codemirror_mode": {
    "name": "ipython",
    "version": 3
   },
   "file_extension": ".py",
   "mimetype": "text/x-python",
   "name": "python",
   "nbconvert_exporter": "python",
   "pygments_lexer": "ipython3",
   "version": "3.7.3"
  }
 },
 "nbformat": 4,
 "nbformat_minor": 2
}
